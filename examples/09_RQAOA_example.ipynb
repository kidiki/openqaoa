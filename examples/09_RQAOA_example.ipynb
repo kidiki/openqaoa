{
 "cells": [
  {
   "cell_type": "markdown",
   "metadata": {},
   "source": [
    "# 09 - Recursive QAOA"
   ]
  },
  {
   "cell_type": "markdown",
   "metadata": {},
   "source": [
    "In this notebook, we provide a short introduction to recursive QAOA, and demonstrate how this technique is implemented in the OpenQAOA workflows, by solving a standard well-known problem from combinatorial optimization: the Minimum Vertex Cover. For reference, the algorithmic functions used by the workflow are contained inside the ``rqaoa.py`` script."
   ]
  },
  {
   "cell_type": "markdown",
   "metadata": {},
   "source": [
    "### A brief introduction"
   ]
  },
  {
   "cell_type": "markdown",
   "metadata": {},
   "source": [
    "Recursive QAOA (RQAOA) is an iterative variant of QAOA, first introduced by Bravyi et. al in [1] and further explored in [2,3]. \n",
    "\n",
    "This technique consists in recursively reducing the size of the problem by running QAOA. At each step, the QAOA output distribution is used to compute the expectation values \n",
    "\n",
    "$$\n",
    "\\mathcal{M}_{i} = \\langle Z_{i} \\rangle \\qquad \\qquad \\qquad \\qquad \\qquad \\mathcal{M}_{ij} = \\langle Z_{i}Z_{j} \\rangle,\n",
    "$$\n",
    "\n",
    "associated with the terms present in the Hamiltonian. Note that, by definition, these quantities are bounded between -1 and 1. The expectation values are then ranked according to their magnitude $|\\mathcal{M}_{(i,ij)}|$. In its original formulation, the highest ranked value is selected. This value is then utilized to eliminate a qubit from the Hamiltonian. This is done by first, performing integer rounding of the expectation value, i.e. $\\mathcal{M}_{(i,ij)} \\rightarrow \\textrm{sign}(\\mathcal{M}_{(i,ij)})$, then transforming the rounded value into a constraint on the respective\\ qubits\n",
    "\n",
    "$$\n",
    "Z_{i} \\rightarrow \\textrm{sign}(\\mathcal{M}_{(i)}) \\qquad \\qquad \\qquad \\qquad \\qquad \\langle Z_{i} Z_{j} \\rangle \\rightarrow \\textrm{sign}(\\mathcal{M}_{(ij)}),\n",
    "$$\n",
    "\n",
    "and last, inserting the constraint into the Hamiltonian, effectively reducing the size of the problem by one qubit. Using the reduced Hamiltonian, QAOA is run again and the same procedure is followed. Once the reduced problem reaches a predefined cutoff size, it is solved exactly solved via classical methods. The final answer is then reconstructed by re-inserting the eliminated qubits into the classical solution following the appropriate order.\n",
    "\n",
    "This version of RQAOA is included in OpenQAOA. Additionally, OpenQAOA incorporates RQAOA from two different generalized version of these procedure, which enable multiple qubit eliminations during the recursive process. These strategies are denoted as `custom` and `adaptive`, in accordance with the precise concept under which the elimination method takes place. In a nutshell, they are described as follows:\n",
    "\n",
    "\n",
    "* The ``custom`` strategy allows the user to define the number of eliminations to be performed at each step. This defined by the parameter ``steps``. If the parameter is set as an integer, the algorithm will use this value as the number of qubits to be eliminated at each step. Alternatively, it is possible to pass a list, which specifies the number of qubits to be eliminated at each step. For ``steps = 1``, the algorithm reduces to the original form of RQAOA presented in [1].\n",
    "\n",
    "* The ``adaptive`` strategy adaptively selects how many qubits to eliminate at each step. The maximum number of allowed eliminations is given by the parameter ``n_max``. At each step, the algorithm selects the top ``n_max+1`` expectation values (ranked in magnitude), computes the mean among them, and uses the ones lying above it for qubit elimination. This corresponds to a maximum of ``n_max`` possible elimination per step. For ``n_max= 1``, the algorithm reduces to the original form of RQAOA presented in [1].\n",
    "\n",
    "**NOTE**: The specific performance of these generalizations is currently under investigation. In particular, the development of Adaptive RQAOA is associated with an internal research project at Entropica Labs to be released publicly in the near future [4]. We make these strategies already available to the community in order to strengthen the exploration of more complex elimination schemes for RQAOA, beyond its original formulation [1]."
   ]
  },
  {
   "cell_type": "code",
   "execution_count": 1,
   "metadata": {},
   "outputs": [],
   "source": [
    "%load_ext autoreload\n",
    "%autoreload 2\n",
    "\n",
    "import numpy as np\n",
    "import networkx as nx\n",
    "\n",
    "from openqaoa.workflows.optimizer import RQAOA, QAOA\n",
    "from openqaoa.problems.problem import MinimumVertexCover, QUBO\n",
    "from openqaoa.utilities import ground_state_hamiltonian\n",
    "from openqaoa.qaoa_parameters import Hamiltonian\n",
    "from openqaoa.devices import create_device"
   ]
  },
  {
   "cell_type": "markdown",
   "metadata": {},
   "source": [
    "## Problem: Minimum Vertex Cover of an N = 10 ring"
   ]
  },
  {
   "cell_type": "markdown",
   "metadata": {},
   "source": [
    "We generate an instance of the Minimum Vertex Cover problem for a ring graph of 10 nodes, making use of the problem library in OpenQAOA.\n",
    "\n",
    "As a brief reminder, the Minimum Vertex Cover problem consists in finding the minimum set of nodes in a graph such every edge in the graph is incident in at least one node in the set. For a ring, the answer corresponds to selected all the even or all the odd nodes (i.e. an antiferromagnet!), meaning that the answer is doubly degenerate. Explicitly, the solutions reads ``1010101010`` and ``0101010101``, and the ground state energy is $E_{gs} = 5$. If you are curious about the specific QUBO formulation of Minimum Vertex Cover, you can check out [3] (it also contains the QUBO form of many other interesting combinatorial optimization problems!)"
   ]
  },
  {
   "cell_type": "code",
   "execution_count": 2,
   "metadata": {},
   "outputs": [],
   "source": [
    "# Number of qubits\n",
    "n_qubits = 10\n",
    "\n",
    "# Ring graph\n",
    "G = nx.circulant_graph(n_qubits,[1])\n",
    "\n",
    "# Minimum vertex cover parameters\n",
    "field = 1.0\n",
    "penalty = 10\n",
    "\n",
    "# Define problem instance\n",
    "vc = MinimumVertexCover(G,field = field,penalty = penalty).get_qubo_problem()"
   ]
  },
  {
   "cell_type": "markdown",
   "metadata": {},
   "source": [
    "## Original RQAOA and setting up the QAOA properties for the recursive process"
   ]
  },
  {
   "cell_type": "markdown",
   "metadata": {},
   "source": [
    "Let us first demonstrate how we would solve this problem making use of the original formulation of RQAOA. As explained in the introduction, this can be done by either selecting ``Custom`` RQAOA and choosing ``steps = 1`` or by using ``Adaptive`` RQAOA and choosing ``n_max=1``. Both methods will by default use the original version of RQAOA.\n",
    "\n",
    "Since RQAOA runs recursively QAOA, we need to set how do we want QAOA to run. This is easily done by making use of the RQAOA methods, the workflow is similar to the QAOA one (see the previous tutorial). By calling the corresponding methods we will set all the QAOA properties, e.g.: number of layers, initialization, parametrization, mixer, device, optimizer, etc. "
   ]
  },
  {
   "cell_type": "code",
   "execution_count": 3,
   "metadata": {},
   "outputs": [],
   "source": [
    "# Define the RQAOA object (default rqaoa_type = 'adaptive')\n",
    "R = RQAOA()\n",
    "\n",
    "# Set parameters for RQAOA, in this case we fix the n_max to 1 (default), the final cutoff value to 3\n",
    "R.set_rqaoa_parameters(n_cutoff=3)\n",
    "\n",
    "## Setting up the QAOA properties\n",
    "\n",
    "# Set the properties you want - These values are actually the default ones!\n",
    "R.set_circuit_properties(p=1, param_type='standard', init_type='ramp', mixer_hamiltonian='x')\n",
    "\n",
    "# Define the device you want to run your problem on using the create_device() function - Here we choose the local wavefunction simulator supported by OpenQAOA\n",
    "device = create_device(location='local', name='vectorized')\n",
    "R.set_device(device)\n",
    "\n",
    "# Set the classical method used to optimiza over QAOA angles and its properties\n",
    "R.set_classical_optimizer(method='cobyla', maxiter=200)\n",
    "\n",
    "# Here are other ways in which the above selection can be generalized!\n",
    "\n",
    "# device = create_device(location = 'qcs',name = 'Aspen-11', as_qvm = True, client_configuraton = qcs_credentials)\n",
    "# r.set_device(device)\n",
    "# r.set_backend_properties(n_shots=100, cvar_alpha=1)\n",
    "# r.set_circuit_properties(param_type = 'extended', init_type = 'fourier_extended')\n",
    "# r.set_classical_optimizer(method='Nelder-Mead', maxiter=1000)"
   ]
  },
  {
   "cell_type": "code",
   "execution_count": 4,
   "metadata": {},
   "outputs": [],
   "source": [
    "# Compile problem instance on RQAOA, just like with QAOA\n",
    "R.compile(vc)"
   ]
  },
  {
   "cell_type": "code",
   "execution_count": 5,
   "metadata": {},
   "outputs": [],
   "source": [
    "# Solve problem with RQAOA\n",
    "R.optimize()"
   ]
  },
  {
   "cell_type": "code",
   "execution_count": 6,
   "metadata": {},
   "outputs": [
    {
     "data": {
      "text/plain": [
       "{'solution': {'1010101010': 5.0},\n",
       " 'classical_output': {'minimum_energy': -3.0, 'optimal_states': ['10']},\n",
       " 'elimination_rules': [{(0, 1): -1.0},\n",
       "  {(None, 1): -1.0},\n",
       "  {(None, 1): 1.0, (None, 2): -1.0},\n",
       "  {(None, 1): 1.0, (None, 2): -1.0},\n",
       "  {(None, 1): 1.0, (None, 2): -1.0}],\n",
       " 'schedule': [1, 1, 2, 2, 2],\n",
       " 'intermediate_steps': [{'QUBO': <openqaoa.problems.problem.QUBO at 0x7faecf2cfb20>,\n",
       "   'QAOA': <openqaoa.workflows.optimizer.QAOA at 0x7faecf2cfbb0>},\n",
       "  {'QUBO': <openqaoa.problems.problem.QUBO at 0x7faecf2ce8c0>,\n",
       "   'QAOA': <openqaoa.workflows.optimizer.QAOA at 0x7faecf2ce800>},\n",
       "  {'QUBO': <openqaoa.problems.problem.QUBO at 0x7faecf30a590>,\n",
       "   'QAOA': <openqaoa.workflows.optimizer.QAOA at 0x7faecf30a530>},\n",
       "  {'QUBO': <openqaoa.problems.problem.QUBO at 0x7faecf18c940>,\n",
       "   'QAOA': <openqaoa.workflows.optimizer.QAOA at 0x7faecf18c820>},\n",
       "  {'QUBO': <openqaoa.problems.problem.QUBO at 0x7faecf18e6e0>,\n",
       "   'QAOA': <openqaoa.workflows.optimizer.QAOA at 0x7faecf18e5c0>}],\n",
       " 'number_steps': 5,\n",
       " 'intermediate_exp_vals_z': [array([0.02352005, 0.02352005, 0.02352005, 0.02352005, 0.02352005,\n",
       "         0.02352005, 0.02352005, 0.02352005, 0.02352005, 0.02352005]),\n",
       "  array([ 0.        , -0.48762051, -0.48762051, -0.48762051, -0.48762051,\n",
       "         -0.48762051, -0.48762051, -0.48762051, -0.48762051]),\n",
       "  array([-0.32579059, -0.26390555, -0.48705248, -0.48705248, -0.48705248,\n",
       "         -0.48705248, -0.48705248, -0.48705248]),\n",
       "  array([-0.32984216, -0.2673374 , -0.48891503, -0.48891503, -0.48891503,\n",
       "         -0.48891503]),\n",
       "  array([-0.33897148, -0.27513089, -0.4915539 , -0.4915539 ])],\n",
       " 'intermediate_corr_matrix': [array([[-0.00055319, -0.29835057, -0.00055319, -0.00055319, -0.00055319,\n",
       "          -0.00055319, -0.00055319, -0.00055319, -0.00055319, -0.29835057],\n",
       "         [-0.00055319, -0.00055319, -0.29835057, -0.00055319, -0.00055319,\n",
       "          -0.00055319, -0.00055319, -0.00055319, -0.00055319, -0.00055319],\n",
       "         [-0.00055319, -0.00055319, -0.00055319, -0.29835057, -0.00055319,\n",
       "          -0.00055319, -0.00055319, -0.00055319, -0.00055319, -0.00055319],\n",
       "         [-0.00055319, -0.00055319, -0.00055319, -0.00055319, -0.29835057,\n",
       "          -0.00055319, -0.00055319, -0.00055319, -0.00055319, -0.00055319],\n",
       "         [-0.00055319, -0.00055319, -0.00055319, -0.00055319, -0.00055319,\n",
       "          -0.29835057, -0.00055319, -0.00055319, -0.00055319, -0.00055319],\n",
       "         [-0.00055319, -0.00055319, -0.00055319, -0.00055319, -0.00055319,\n",
       "          -0.00055319, -0.29835057, -0.00055319, -0.00055319, -0.00055319],\n",
       "         [-0.00055319, -0.00055319, -0.00055319, -0.00055319, -0.00055319,\n",
       "          -0.00055319, -0.00055319, -0.29835057, -0.00055319, -0.00055319],\n",
       "         [-0.00055319, -0.00055319, -0.00055319, -0.00055319, -0.00055319,\n",
       "          -0.00055319, -0.00055319, -0.00055319, -0.29835057, -0.00055319],\n",
       "         [-0.00055319, -0.00055319, -0.00055319, -0.00055319, -0.00055319,\n",
       "          -0.00055319, -0.00055319, -0.00055319, -0.00055319, -0.29835057],\n",
       "         [-0.00055319, -0.00055319, -0.00055319, -0.00055319, -0.00055319,\n",
       "          -0.00055319, -0.00055319, -0.00055319, -0.00055319, -0.00055319]]),\n",
       "  array([[ 0.        ,  0.30761582,  0.        ,  0.        ,  0.        ,\n",
       "           0.        ,  0.        ,  0.        , -0.30761582],\n",
       "         [ 0.        , -0.23777376, -0.19403514, -0.23777376, -0.23777376,\n",
       "          -0.23777376, -0.23777376, -0.23777376, -0.23777376],\n",
       "         [ 0.        , -0.23777376, -0.23777376, -0.19403514, -0.23777376,\n",
       "          -0.23777376, -0.23777376, -0.23777376, -0.23777376],\n",
       "         [ 0.        , -0.23777376, -0.23777376, -0.23777376, -0.19403514,\n",
       "          -0.23777376, -0.23777376, -0.23777376, -0.23777376],\n",
       "         [ 0.        , -0.23777376, -0.23777376, -0.23777376, -0.23777376,\n",
       "          -0.19403514, -0.23777376, -0.23777376, -0.23777376],\n",
       "         [ 0.        , -0.23777376, -0.23777376, -0.23777376, -0.23777376,\n",
       "          -0.23777376, -0.19403514, -0.23777376, -0.23777376],\n",
       "         [ 0.        , -0.23777376, -0.23777376, -0.23777376, -0.23777376,\n",
       "          -0.23777376, -0.23777376, -0.19403514, -0.23777376],\n",
       "         [ 0.        , -0.23777376, -0.23777376, -0.23777376, -0.23777376,\n",
       "          -0.23777376, -0.23777376, -0.23777376, -0.19403514],\n",
       "         [ 0.        , -0.23777376, -0.23777376, -0.23777376, -0.23777376,\n",
       "          -0.23777376, -0.23777376, -0.23777376, -0.23777376]]),\n",
       "  array([[-0.10613951, -0.08597794, -0.15867711, -0.15867711, -0.15867711,\n",
       "          -0.15867711, -0.15867711, -0.27071807],\n",
       "         [-0.08597794, -0.06964614, -0.28520458, -0.12853585, -0.12853585,\n",
       "          -0.12853585, -0.12853585, -0.12853585],\n",
       "         [-0.15867711, -0.12853585, -0.23722012, -0.19439452, -0.23722012,\n",
       "          -0.23722012, -0.23722012, -0.23722012],\n",
       "         [-0.15867711, -0.12853585, -0.23722012, -0.23722012, -0.19439452,\n",
       "          -0.23722012, -0.23722012, -0.23722012],\n",
       "         [-0.15867711, -0.12853585, -0.23722012, -0.23722012, -0.23722012,\n",
       "          -0.19439452, -0.23722012, -0.23722012],\n",
       "         [-0.15867711, -0.12853585, -0.23722012, -0.23722012, -0.23722012,\n",
       "          -0.23722012, -0.19439452, -0.23722012],\n",
       "         [-0.15867711, -0.12853585, -0.23722012, -0.23722012, -0.23722012,\n",
       "          -0.23722012, -0.23722012, -0.19439452],\n",
       "         [-0.15867711, -0.12853585, -0.23722012, -0.23722012, -0.23722012,\n",
       "          -0.23722012, -0.23722012, -0.23722012]]),\n",
       "  array([[-0.10879585, -0.08817915, -0.16126479, -0.16126479, -0.16126479,\n",
       "          -0.27146642],\n",
       "         [-0.08817915, -0.07146929, -0.28692349, -0.13070527, -0.13070527,\n",
       "          -0.13070527],\n",
       "         [-0.16126479, -0.13070527, -0.23903791, -0.19083603, -0.23903791,\n",
       "          -0.23903791],\n",
       "         [-0.16126479, -0.13070527, -0.23903791, -0.23903791, -0.19083603,\n",
       "          -0.23903791],\n",
       "         [-0.16126479, -0.13070527, -0.23903791, -0.23903791, -0.23903791,\n",
       "          -0.19083603],\n",
       "         [-0.16126479, -0.13070527, -0.23903791, -0.23903791, -0.23903791,\n",
       "          -0.23903791]]),\n",
       "  array([[-0.11490167, -0.09326153, -0.16662276, -0.27207819],\n",
       "         [-0.09326153, -0.07569701, -0.29005985, -0.13524166],\n",
       "         [-0.16662276, -0.13524166, -0.24162524, -0.18056019],\n",
       "         [-0.16662276, -0.13524166, -0.24162524, -0.24162524]])]}"
      ]
     },
     "execution_count": 6,
     "metadata": {},
     "output_type": "execute_result"
    }
   ],
   "source": [
    "# Extract results\n",
    "R.results"
   ]
  },
  {
   "cell_type": "markdown",
   "metadata": {},
   "source": [
    "We have solved our first problem using RQAOA! Let us now digest the output from the results. \n",
    "\n",
    "First, the ``solution`` dictionary contains to the final solution(s) of the problem, here ``1010101010`` (the antiferromagnetic solution we expected!), and the associated energy(-ies), here ``5.0``. The ``classical output`` dictionary contains the results from the classical optimization at the cutoff size. The ``elimination rules`` dictionary displays how qubits were eliminated throughout the recursive process. Taking the first entry ``{(0, 1): -1.0}`` as an example, it should be read as: qubit ``1`` was eliminated in favor of qubit ``0``, and the correlation between them is negative. When the label of the remaining qubit reads ``None``, like in ``{(None, 1): -1.0}``, the qubit ``1`` was not eliminated in favor of a remaining one, but was instead fixed to the specified value ``-1.0``, resulting from a single-qubit expectation value being the highest ranked. The ``schedule`` corresponds to the number of eliminations that took place at each step. Finally, ``total steps`` tells us the number of steps that it took to reach the cutoff value.\n",
    "\n",
    "But wait! We claimed to be using the original form of RQAOA, where only one elimination takes place at each step. However, in the ``schedule`` we can observe that in the third, fourth and fifth step **two** qubits were eliminated instead of one. How is this possible? To clarify, the algorithm **did** select a single expectation value to generate a constraint and eliminate a single qubit form the model! This extra eliminations turn out to be an interesting property of the RQAOA. When one qubit is eliminated as a function of another, this corresponds to fusing two nodes in the underlying graph, making the reduced graph *denser*. On the contrary, when a qubit is fixed to a value, we effectively remove the node from the graph, thus making the reduced graph *sparser*. It turns out that the combination of these processes can sometimes lead to nodes getting isolated from the main graph component. This means that, if the assumptions we made (i.e. the imposed constraints) are correct, the specific value of this qubit is independent of the rest, and can then be fixed respecting the corresponding linear term (or arbitrarily if no linear term is present!). \n",
    "\n",
    "In summary, spontaneous eliminations can take place as a result of fixing nodes that ended up isolated consequence of the topology changes throughout the elimination process. \n",
    "\n",
    "(**NOTE**: If you think about this carefully, you will notice that this event is mostly prominent in uniform-like graphs, where terms can cancel, but for randomly weighted problems, this will most likely not take place at all!)"
   ]
  },
  {
   "cell_type": "markdown",
   "metadata": {},
   "source": [
    "## Standard / custom method"
   ]
  },
  {
   "cell_type": "markdown",
   "metadata": {},
   "source": [
    "As presented in the introduction, the ``Custom`` strategy allows to generalize the number of eliminations at each step. The specific number of eliminations (up the spontaneous ones described in the previous section) can either be a constant value at each step, or we can set a custom schedule defining what to do at each step. Note that, when customizing a schedule, total number of eliminations need to be enough to reach the cutoff size! In general, the algorithm will choose to never go beyond the cutoff, e.g. if we ask for 5 qubits to be eliminated but we are 2 qubits away from the cutoff only 2 will be eliminated. The only exception to this is when spontaneous eliminations occur."
   ]
  },
  {
   "cell_type": "code",
   "execution_count": 7,
   "metadata": {},
   "outputs": [],
   "source": [
    "# Define RQAOA instance\n",
    "R = RQAOA()"
   ]
  },
  {
   "cell_type": "code",
   "execution_count": 8,
   "metadata": {},
   "outputs": [],
   "source": [
    "# Set parameters for RQAOA\n",
    "\n",
    "# Fixed step - Choosing an integer value sets the default number of eliminations at each step to that value\n",
    "R.set_rqaoa_parameters(steps = 2, n_cutoff = 3)\n",
    "\n",
    "# Schedule - Choosing a schedule, the algorithm reads through the list to select the number of eliminations at each step\n",
    "schedule = [1,2,3,4,5]\n",
    "R.set_rqaoa_parameters(steps = schedule, n_cutoff = 3) # WE USE THIS ONE"
   ]
  },
  {
   "cell_type": "code",
   "execution_count": 9,
   "metadata": {},
   "outputs": [],
   "source": [
    "# Compile problem instance on RQAOA\n",
    "R.compile(vc)"
   ]
  },
  {
   "cell_type": "code",
   "execution_count": 10,
   "metadata": {},
   "outputs": [],
   "source": [
    "# Solve problem with RQAOA\n",
    "R.optimize()"
   ]
  },
  {
   "cell_type": "code",
   "execution_count": 11,
   "metadata": {},
   "outputs": [
    {
     "data": {
      "text/plain": [
       "{'solution': {'1011011110': 7.0, '0111011101': 7.0, '1011011101': 7.0},\n",
       " 'classical_output': {'minimum_energy': -5.0,\n",
       "  'optimal_states': ['110', '001', '101']},\n",
       " 'elimination_rules': [{(0, 1): -1.0},\n",
       "  {(None, 1): -1.0, (None, 2): -1.0},\n",
       "  {(None, 1): 1.0, (None, 2): -1.0, (None, 3): -1.0, (None, 4): -1.0}],\n",
       " 'schedule': [1, 2, 4],\n",
       " 'intermediate_steps': [{'QUBO': <openqaoa.problems.problem.QUBO at 0x7faecf21feb0>,\n",
       "   'QAOA': <openqaoa.workflows.optimizer.QAOA at 0x7faecf21fee0>},\n",
       "  {'QUBO': <openqaoa.problems.problem.QUBO at 0x7faecf21dd50>,\n",
       "   'QAOA': <openqaoa.workflows.optimizer.QAOA at 0x7faecf21dc90>},\n",
       "  {'QUBO': <openqaoa.problems.problem.QUBO at 0x7faecf279960>,\n",
       "   'QAOA': <openqaoa.workflows.optimizer.QAOA at 0x7faecf2798d0>}],\n",
       " 'number_steps': 3,\n",
       " 'intermediate_exp_vals_z': [array([0.02352669, 0.02352669, 0.02352669, 0.02352669, 0.02352669,\n",
       "         0.02352669, 0.02352669, 0.02352669, 0.02352669, 0.02352669]),\n",
       "  array([ 0.        , -0.48762051, -0.48762051, -0.48762051, -0.48762051,\n",
       "         -0.48762051, -0.48762051, -0.48762051, -0.48762051]),\n",
       "  array([-0.32771145, -0.2655229 , -0.48820323, -0.48820323, -0.48820323,\n",
       "         -0.48820323, -0.48820323])],\n",
       " 'intermediate_corr_matrix': [array([[-0.00055351, -0.29835734, -0.00055351, -0.00055351, -0.00055351,\n",
       "          -0.00055351, -0.00055351, -0.00055351, -0.00055351, -0.29835734],\n",
       "         [-0.00055351, -0.00055351, -0.29835734, -0.00055351, -0.00055351,\n",
       "          -0.00055351, -0.00055351, -0.00055351, -0.00055351, -0.00055351],\n",
       "         [-0.00055351, -0.00055351, -0.00055351, -0.29835734, -0.00055351,\n",
       "          -0.00055351, -0.00055351, -0.00055351, -0.00055351, -0.00055351],\n",
       "         [-0.00055351, -0.00055351, -0.00055351, -0.00055351, -0.29835734,\n",
       "          -0.00055351, -0.00055351, -0.00055351, -0.00055351, -0.00055351],\n",
       "         [-0.00055351, -0.00055351, -0.00055351, -0.00055351, -0.00055351,\n",
       "          -0.29835734, -0.00055351, -0.00055351, -0.00055351, -0.00055351],\n",
       "         [-0.00055351, -0.00055351, -0.00055351, -0.00055351, -0.00055351,\n",
       "          -0.00055351, -0.29835734, -0.00055351, -0.00055351, -0.00055351],\n",
       "         [-0.00055351, -0.00055351, -0.00055351, -0.00055351, -0.00055351,\n",
       "          -0.00055351, -0.00055351, -0.29835734, -0.00055351, -0.00055351],\n",
       "         [-0.00055351, -0.00055351, -0.00055351, -0.00055351, -0.00055351,\n",
       "          -0.00055351, -0.00055351, -0.00055351, -0.29835734, -0.00055351],\n",
       "         [-0.00055351, -0.00055351, -0.00055351, -0.00055351, -0.00055351,\n",
       "          -0.00055351, -0.00055351, -0.00055351, -0.00055351, -0.29835734],\n",
       "         [-0.00055351, -0.00055351, -0.00055351, -0.00055351, -0.00055351,\n",
       "          -0.00055351, -0.00055351, -0.00055351, -0.00055351, -0.00055351]]),\n",
       "  array([[ 0.        ,  0.30761582,  0.        ,  0.        ,  0.        ,\n",
       "           0.        ,  0.        ,  0.        , -0.30761582],\n",
       "         [ 0.        , -0.23777376, -0.19403514, -0.23777376, -0.23777376,\n",
       "          -0.23777376, -0.23777376, -0.23777376, -0.23777376],\n",
       "         [ 0.        , -0.23777376, -0.23777376, -0.19403514, -0.23777376,\n",
       "          -0.23777376, -0.23777376, -0.23777376, -0.23777376],\n",
       "         [ 0.        , -0.23777376, -0.23777376, -0.23777376, -0.19403514,\n",
       "          -0.23777376, -0.23777376, -0.23777376, -0.23777376],\n",
       "         [ 0.        , -0.23777376, -0.23777376, -0.23777376, -0.23777376,\n",
       "          -0.19403514, -0.23777376, -0.23777376, -0.23777376],\n",
       "         [ 0.        , -0.23777376, -0.23777376, -0.23777376, -0.23777376,\n",
       "          -0.23777376, -0.19403514, -0.23777376, -0.23777376],\n",
       "         [ 0.        , -0.23777376, -0.23777376, -0.23777376, -0.23777376,\n",
       "          -0.23777376, -0.23777376, -0.19403514, -0.23777376],\n",
       "         [ 0.        , -0.23777376, -0.23777376, -0.23777376, -0.23777376,\n",
       "          -0.23777376, -0.23777376, -0.23777376, -0.19403514],\n",
       "         [ 0.        , -0.23777376, -0.23777376, -0.23777376, -0.23777376,\n",
       "          -0.23777376, -0.23777376, -0.23777376, -0.23777376]]),\n",
       "  array([[-0.10739479, -0.08701489, -0.15998979, -0.15998979, -0.15998979,\n",
       "          -0.15998979, -0.2707761 ],\n",
       "         [-0.08701489, -0.07050241, -0.28566525, -0.12962914, -0.12962914,\n",
       "          -0.12962914, -0.12962914],\n",
       "         [-0.15998979, -0.12962914, -0.2383424 , -0.19269507, -0.2383424 ,\n",
       "          -0.2383424 , -0.2383424 ],\n",
       "         [-0.15998979, -0.12962914, -0.2383424 , -0.2383424 , -0.19269507,\n",
       "          -0.2383424 , -0.2383424 ],\n",
       "         [-0.15998979, -0.12962914, -0.2383424 , -0.2383424 , -0.2383424 ,\n",
       "          -0.19269507, -0.2383424 ],\n",
       "         [-0.15998979, -0.12962914, -0.2383424 , -0.2383424 , -0.2383424 ,\n",
       "          -0.2383424 , -0.19269507],\n",
       "         [-0.15998979, -0.12962914, -0.2383424 , -0.2383424 , -0.2383424 ,\n",
       "          -0.2383424 , -0.2383424 ]])]}"
      ]
     },
     "execution_count": 11,
     "metadata": {},
     "output_type": "execute_result"
    }
   ],
   "source": [
    "# Extract results\n",
    "R.results"
   ]
  },
  {
   "cell_type": "markdown",
   "metadata": {},
   "source": [
    "In comparison with the output from the previous problem, we now obtained multiple degenerate solutions (the beauty of RQAOA!), which sadly do not correspond to the actual solution to the problem (but hey, we just went ahead with a random elimination schedule). Note that the schedule now looks like the input schedule in the ``steps`` parameter, as it should! The only difference being that in the last step there was a spontaneous elimination and the value increased from 3 to 4, thus reaching the cutoff value earlier."
   ]
  },
  {
   "cell_type": "markdown",
   "metadata": {},
   "source": [
    "## Adaptive method"
   ]
  },
  {
   "cell_type": "markdown",
   "metadata": {},
   "source": [
    "Finally, as explained in the introduction, the adaptive scheme provides a balanced way of performing eliminations with RQAOA, with the parameter ``n_max`` setting the maximum number of potential eliminations. The final number will depend on the specific ranking structure of the expectation values, and ``n_max`` sets what portion of these we would like to explore. As with the ``Custom`` strategy, the algorithm ensures to not go overboard the cutoff size value, up to spontaneous eliminations."
   ]
  },
  {
   "cell_type": "code",
   "execution_count": 23,
   "metadata": {},
   "outputs": [],
   "source": [
    "# Define RQAOA instance - We use the default QAOA settings again\n",
    "R = RQAOA()"
   ]
  },
  {
   "cell_type": "code",
   "execution_count": 42,
   "metadata": {},
   "outputs": [],
   "source": [
    "# Set parameters for adaptive RQAOA, the maximum number of eliminations allowed and final cutoff value\n",
    "R.set_rqaoa_parameters(n_cutoff = 3, n_max = 4, rqaoa_type = 'adaptive')"
   ]
  },
  {
   "cell_type": "code",
   "execution_count": 43,
   "metadata": {},
   "outputs": [],
   "source": [
    "# Compile problem instance on RQAOA\n",
    "R.compile(vc)"
   ]
  },
  {
   "cell_type": "code",
   "execution_count": 44,
   "metadata": {},
   "outputs": [],
   "source": [
    "# Solve problem with RQAOA\n",
    "R.optimize()"
   ]
  },
  {
   "cell_type": "code",
   "execution_count": 45,
   "metadata": {},
   "outputs": [],
   "source": [
    "# Extract results\n",
    "opt_results = R.results"
   ]
  },
  {
   "cell_type": "code",
   "execution_count": 46,
   "metadata": {},
   "outputs": [
    {
     "data": {
      "text/plain": [
       "{'solution': {'1010101010': 5.0, '0101010101': 5.0},\n",
       " 'classical_output': {'minimum_energy': -7.5,\n",
       "  'optimal_states': ['110', '001']},\n",
       " 'elimination_rules': [{(0, 1): -1.0, (0, 2): 1.0, (0, 3): -1.0, (0, 9): -1.0},\n",
       "  {(0, 1): 1.0, (0, 2): -1.0, (0, 5): 1.0}],\n",
       " 'schedule': [4, 3],\n",
       " 'intermediate_steps': [{'QUBO': <openqaoa.problems.problem.QUBO at 0x7faecee2a980>,\n",
       "   'QAOA': <openqaoa.workflows.optimizer.QAOA at 0x7faecee28e80>},\n",
       "  {'QUBO': <openqaoa.problems.problem.QUBO at 0x7faecee5b2b0>,\n",
       "   'QAOA': <openqaoa.workflows.optimizer.QAOA at 0x7faecee590c0>}],\n",
       " 'number_steps': 2,\n",
       " 'intermediate_exp_vals_z': [array([0.02352669, 0.02352669, 0.02352669, 0.02352669, 0.02352669,\n",
       "         0.02352669, 0.02352669, 0.02352669, 0.02352669, 0.02352669]),\n",
       "  array([-0.02352669,  0.02352669,  0.02352669,  0.02352669,  0.02352669,\n",
       "          0.02352669])],\n",
       " 'intermediate_corr_matrix': [array([[-0.00055351, -0.29835734, -0.00055351, -0.00055351, -0.00055351,\n",
       "          -0.00055351, -0.00055351, -0.00055351, -0.00055351, -0.29835734],\n",
       "         [-0.00055351, -0.00055351, -0.29835734, -0.00055351, -0.00055351,\n",
       "          -0.00055351, -0.00055351, -0.00055351, -0.00055351, -0.00055351],\n",
       "         [-0.00055351, -0.00055351, -0.00055351, -0.29835734, -0.00055351,\n",
       "          -0.00055351, -0.00055351, -0.00055351, -0.00055351, -0.00055351],\n",
       "         [-0.00055351, -0.00055351, -0.00055351, -0.00055351, -0.29835734,\n",
       "          -0.00055351, -0.00055351, -0.00055351, -0.00055351, -0.00055351],\n",
       "         [-0.00055351, -0.00055351, -0.00055351, -0.00055351, -0.00055351,\n",
       "          -0.29835734, -0.00055351, -0.00055351, -0.00055351, -0.00055351],\n",
       "         [-0.00055351, -0.00055351, -0.00055351, -0.00055351, -0.00055351,\n",
       "          -0.00055351, -0.29835734, -0.00055351, -0.00055351, -0.00055351],\n",
       "         [-0.00055351, -0.00055351, -0.00055351, -0.00055351, -0.00055351,\n",
       "          -0.00055351, -0.00055351, -0.29835734, -0.00055351, -0.00055351],\n",
       "         [-0.00055351, -0.00055351, -0.00055351, -0.00055351, -0.00055351,\n",
       "          -0.00055351, -0.00055351, -0.00055351, -0.29835734, -0.00055351],\n",
       "         [-0.00055351, -0.00055351, -0.00055351, -0.00055351, -0.00055351,\n",
       "          -0.00055351, -0.00055351, -0.00055351, -0.00055351, -0.29835734],\n",
       "         [-0.00055351, -0.00055351, -0.00055351, -0.00055351, -0.00055351,\n",
       "          -0.00055351, -0.00055351, -0.00055351, -0.00055351, -0.00055351]]),\n",
       "  array([[-0.00055351,  0.29835733,  0.00055351,  0.00055351,  0.00055351,\n",
       "           0.29835733],\n",
       "         [ 0.00055351, -0.00055351, -0.29835733, -0.00055351, -0.00055351,\n",
       "          -0.00055351],\n",
       "         [ 0.00055351, -0.00055351, -0.00055351, -0.29835733, -0.00055351,\n",
       "          -0.00055351],\n",
       "         [ 0.00055351, -0.00055351, -0.00055351, -0.00055351, -0.29835733,\n",
       "          -0.00055351],\n",
       "         [ 0.00055351, -0.00055351, -0.00055351, -0.00055351, -0.00055351,\n",
       "          -0.29835733],\n",
       "         [ 0.00055351, -0.00055351, -0.00055351, -0.00055351, -0.00055351,\n",
       "          -0.00055351]])]}"
      ]
     },
     "execution_count": 46,
     "metadata": {},
     "output_type": "execute_result"
    }
   ],
   "source": [
    "opt_results"
   ]
  },
  {
   "cell_type": "markdown",
   "metadata": {},
   "source": [
    "As we can see, we happen to reach the end of the process in only two steps (and also happened to find the right answer! Though bear in mind we did choose an easy problem), where the algorithm chose to eliminate 4 qubits in the first step (the maximum possible) and 3 on the second one."
   ]
  },
  {
   "cell_type": "code",
   "execution_count": null,
   "metadata": {},
   "outputs": [],
   "source": []
  },
  {
   "cell_type": "code",
   "execution_count": 36,
   "metadata": {},
   "outputs": [
    {
     "data": {
      "text/plain": [
       "<matplotlib.colorbar.Colorbar at 0x7faece9c1e70>"
      ]
     },
     "execution_count": 36,
     "metadata": {},
     "output_type": "execute_result"
    },
    {
     "data": {
      "image/png": "[encoded data removed]",
      "text/plain": [
       "<Figure size 640x480 with 2 Axes>"
      ]
     },
     "metadata": {},
     "output_type": "display_data"
    }
   ],
   "source": [
    "import matplotlib.pyplot as plt\n",
    "plt.imshow(opt_results['intermediate_corr_matrix'][0], cmap=\"cool\")\n",
    "plt.colorbar()"
   ]
  },
  {
   "cell_type": "code",
   "execution_count": 47,
   "metadata": {},
   "outputs": [
    {
     "data": {
      "text/plain": [
       "<matplotlib.colorbar.Colorbar at 0x7faecf093460>"
      ]
     },
     "execution_count": 47,
     "metadata": {},
     "output_type": "execute_result"
    },
    {
     "data": {
      "image/png": "[encoded data removed]",
      "text/plain": [
       "<Figure size 640x480 with 2 Axes>"
      ]
     },
     "metadata": {},
     "output_type": "display_data"
    }
   ],
   "source": [
    "import matplotlib.pyplot as plt\n",
    "plt.imshow(opt_results['intermediate_corr_matrix'][1], cmap=\"cool\")\n",
    "plt.colorbar()"
   ]
  },
  {
   "cell_type": "markdown",
   "metadata": {},
   "source": [
    "## Problem: Sherrington-Kirkpatrick, with $J_{ij} = \\pm 1$ and $N = 10$, using RQAOA"
   ]
  },
  {
   "cell_type": "markdown",
   "metadata": {},
   "source": [
    "To wrap it up, let us now do a walk through the whole process for a different problem, the Sherrington-Kirkpatrick model. This corresponds to a fully-connected system, where we choose the couplings $J_{ij}$ to be of magnitude 1, but with a randomly assigned signs. The workflow requires us to define the problem as an instance of the ``QUBO`` class, which can be easily done by defining the connectivity of the problem as a set of tuples, and the and the associated weights (i.e. coupling constants) as a list. Here, we approach this problem using Adaptive RQAOA."
   ]
  },
  {
   "cell_type": "code",
   "execution_count": 17,
   "metadata": {},
   "outputs": [],
   "source": [
    "# Number of qubits\n",
    "n_qubits = 10\n",
    "\n",
    "# Define fully-connected terms\n",
    "terms = [(i,j) for j in range(n_qubits) for i in range(j)]\n",
    "\n",
    "# Assign weight signs at random\n",
    "seed = 42\n",
    "np.random.seed(seed)\n",
    "weights = [(-1)**np.round(np.random.random()) for _ in range(len(terms))]\n",
    "\n",
    "# Define QUBO problem\n",
    "sk = QUBO(n_qubits,terms,weights)"
   ]
  },
  {
   "cell_type": "markdown",
   "metadata": {},
   "source": [
    "To check the quality of our results we additionally make use of the utility function ``ground_state_hamiltonian``, which can compute the exact result for any Hamiltonian of reasonable size. To use this function we define the problem as an instance of the ``Hamiltonian`` class, using the ``classical_hamiltonian`` method (given that our Hamiltonian is only composed of $Z$ operators). This class is widely used across OpenQAOA to generate mixer and cost Hamiltonians that define the QAOA structure."
   ]
  },
  {
   "cell_type": "code",
   "execution_count": 18,
   "metadata": {},
   "outputs": [
    {
     "name": "stdout",
     "output_type": "stream",
     "text": [
      "The exact energy is -17.0 and the solutions are ['1101100000', '1110011010', '0001100101', '0010011111']\n"
     ]
    }
   ],
   "source": [
    "# Obtain exact solution for comparison\n",
    "\n",
    "# Define Hamiltonian object from terms and weights\n",
    "hamiltonian = Hamiltonian.classical_hamiltonian(terms,weights,constant = 0)\n",
    "\n",
    "# Compute the exact result\n",
    "exact_energy, ground_state_strings = ground_state_hamiltonian(hamiltonian)\n",
    "\n",
    "print(f'The exact energy is {exact_energy} and the solutions are {ground_state_strings}')"
   ]
  },
  {
   "cell_type": "code",
   "execution_count": 19,
   "metadata": {},
   "outputs": [
    {
     "name": "stdout",
     "output_type": "stream",
     "text": [
      "The solution found by Ada-RQAOA for nmax = 3 is energy = -17.0 and ground states = ['1101100000', '0010011111']\n"
     ]
    }
   ],
   "source": [
    "# Define RQAOA instance\n",
    "R = RQAOA()\n",
    "\n",
    "# Set parameters for adaptive RQAOA, the maximum number of eliminations allowed and final cutoff value\n",
    "n_cutoff = 3\n",
    "n_max = 3\n",
    "R.set_rqaoa_parameters(n_cutoff = n_cutoff, n_max = n_max, rqaoa_type = 'adaptive')\n",
    "\n",
    "# Compile problem instance on RQAOA\n",
    "R.compile(sk)\n",
    "\n",
    "# Solve problem with RQAOA\n",
    "R.optimize()\n",
    "\n",
    "# Extract results\n",
    "result = R.results\n",
    "solutions = result.get_solution()\n",
    "\n",
    "states = list(solutions.keys())\n",
    "energy = list(solutions.values())[0]\n",
    "\n",
    "print(f'The solution found by Ada-RQAOA for nmax = {n_max} is energy = {energy} and ground states = {states}')"
   ]
  },
  {
   "cell_type": "markdown",
   "metadata": {},
   "source": [
    "And that's it! We happened to obtain again the correct result (at least a few solutions), but a quick play around with ``n_cutoff`` and ``n_max`` will show you this might not always be the case!\n",
    "\n",
    "To conclude, we have shown how to use the RQAOA workflow and how to run problem instances using the different RQAOA strategies available. As with any iterative problem, we expect many more to emerge in the near future (e.g. see [5] for a non-deterministic proposal to determine the eliminations). We hope OpenQAOA helps you to explore this powerful algorithm further and ultimately enables you to contribute to the quantum computing community! :)"
   ]
  },
  {
   "cell_type": "markdown",
   "metadata": {},
   "source": [
    "## References "
   ]
  },
  {
   "cell_type": "markdown",
   "metadata": {},
   "source": [
    "[1] S. Bravyi, A. Kliesch, R. Koenig, and E. Tang, [Physical Review Letters 125, 260505 (2020)](https://journals.aps.org/prl/abstract/10.1103/PhysRevLett.125.260505) \\\n",
    "[2] S. Bravyi, A. Kliesch, R. Koenig, and E. Tang, [(2020), 10.22331/q-2022-03-30-678](https://quantum-journal.org/papers/q-2022-03-30-678/) \\\n",
    "[3] D. J. Egger, J. Marecek, and S. Woerner, [Quantum 5, 479 (2021)](https://doi.org/10.22331/q-2021-06-17-479) \\\n",
    "[4] E. I. Rodriguez Chiacchio, V. Sharma, E. Munro (Work in progress) \\\n",
    "[5] A. Lucas, [Frontiers in Physics 2 (2014)](https://www.frontiersin.org/articles/10.3389/fphy.2014.00005/full) \\\n",
    "[6] J. R. McClean, M. P. Harrigan, M. Mohseni, N. C. Rubin, Z. Jiang, S. Boixo, V. N. Smelyanskiy, R. Babbush, and H. Neven, [PRX Quantum 2, 030312 (2021)](https://doi.org/10.1103/PRXQuantum.2.030312)"
   ]
  }
 ],
 "metadata": {
  "kernelspec": {
   "display_name": "assignments",
   "language": "python",
   "name": "assignments"
  },
  "language_info": {
   "codemirror_mode": {
    "name": "ipython",
    "version": 3
   },
   "file_extension": ".py",
   "mimetype": "text/x-python",
   "name": "python",
   "nbconvert_exporter": "python",
   "pygments_lexer": "ipython3",
   "version": "3.10.6"
  },
  "vscode": {
   "interpreter": {
    "hash": "916dbcbb3f70747c44a77c7bcd40155683ae19c65e1c03b4aa3499c5328201f1"
   }
  }
 },
 "nbformat": 4,
 "nbformat_minor": 4
}
