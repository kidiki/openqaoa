{
 "cells": [
  {
   "cell_type": "code",
   "execution_count": null,
   "id": "d77651f0-f66a-4426-bd7d-c060ad6a51fe",
   "metadata": {},
   "outputs": [],
   "source": [
    "%load_ext autoreload\n",
    "%autoreload 2\n",
    "\n",
    "import numpy as np\n",
    "import networkx as nx\n",
    "import pandas as pd\n",
    "import seaborn as sns\n",
    "import matplotlib.pyplot as plt\n",
    "\n",
    "from openqaoa.qaoa_parameters import QAOACircuitParams, create_qaoa_variational_params, Hamiltonian\n",
    "from openqaoa.devices import create_device\n",
    "from openqaoa.backends.qaoa_backend import get_qaoa_backend\n",
    "from openqaoa.optimizers import get_optimizer\n",
    "from openqaoa.utilities import *\n",
    "from openqaoa.workflows.optimizer import QAOA, RQAOA\n",
    "from openqaoa.problems.problem import QUBO, MaximumCut, MinimumVertexCover"
   ]
  },
  {
   "cell_type": "markdown",
   "id": "2468355b-3408-469b-b909-45c6bf96c0b4",
   "metadata": {},
   "source": [
    "### MaxCut"
   ]
  },
  {
   "cell_type": "code",
   "execution_count": null,
   "id": "83324dbb-a465-4c03-9499-800994895af9",
   "metadata": {},
   "outputs": [],
   "source": [
    "g = random_k_regular_graph(degree=3, nodes=range(8), weighted=True, biases=True)\n",
    "print('Graph edges', g.edges)\n",
    "plot_graph(g)\n",
    "#plt.savefig(\"graph_sigma={}.png\".format(sigma))\n",
    "#plt.clf()\n",
    "print('after plot graph',g.edges)\n",
    "# Define te problem and translate it into a binary Qubo.\n",
    "maxcut_prob = MaximumCut(g)\n",
    "maxcut_qubo = maxcut_prob.get_qubo_problem()\n",
    "print(\"QUBO terms\", maxcut_qubo.terms)\n",
    "print('after maxcut prob init',maxcut_prob.G.edges)\n",
    "\n",
    "# Define Hamiltonian\n",
    "cost_hamiltonian = hamiltonian_from_graph(g)\n",
    "print('Hamiltonian from graph', cost_hamiltonian)\n",
    "print(energy, configuration)\n",
    "\n",
    "# Solve the problem analytically\n",
    "energy, configuration = ground_state_hamiltonian(cost_hamiltonian)\n",
    "\n",
    "print('Hamiltonian from QUBO', maxcut_qubo.hamiltonian)\n",
    "print(energy, configuration)\n"
   ]
  },
  {
   "cell_type": "code",
   "execution_count": null,
   "id": "95f5032e-c16e-4b07-b08d-b6205e943f4d",
   "metadata": {},
   "outputs": [],
   "source": [
    "terms = []\n",
    "weights = []\n",
    "\n",
    "for u, v, edge_weight in g.edges(data=\"weight\"):\n",
    "    terms.append([u, v])\n",
    "\n",
    "    # We expect the edge weight to be given in the attribute called\n",
    "    # \"weight\". If it is None, assume a weight of 1.0\n",
    "    weights.append(\n",
    "        edge_weight if edge_weight else 1\n",
    "    )"
   ]
  },
  {
   "cell_type": "code",
   "execution_count": null,
   "id": "1ea25c1c-e1f7-4fd0-97ae-2c50cee8ba82",
   "metadata": {},
   "outputs": [],
   "source": [
    "q= QUBO(g.number_of_nodes(), terms, weights)"
   ]
  },
  {
   "cell_type": "code",
   "execution_count": null,
   "id": "f12b8d72-ab35-4b5e-9a9e-7f58c45a3979",
   "metadata": {},
   "outputs": [],
   "source": [
    "q.terms"
   ]
  },
  {
   "cell_type": "markdown",
   "id": "c6ceadea-c4be-48eb-8c9e-4cbc9c1a7c18",
   "metadata": {},
   "source": [
    "### Minimum Vertex Cover"
   ]
  },
  {
   "cell_type": "code",
   "execution_count": null,
   "id": "6febda00-3d5b-4092-90f4-d3d59d368e25",
   "metadata": {},
   "outputs": [],
   "source": [
    "g = random_k_regular_graph(degree=3, nodes=range(6), weighted=False, biases=False)\n",
    "plot_graph(g)\n",
    "#plt.savefig(\"graph_sigma={}.png\".format(sigma))\n",
    "#plt.clf()\n",
    "\n",
    "# Define te problem and translate it into a binary Qubo.\n",
    "\n",
    "vc = MinimumVertexCover(G,field = field,penalty = penalty).get_qubo_problem()\n",
    "print(vc.terms)\n",
    "\n",
    "# Define Hamiltonian\n",
    "cost_hamiltonian = hamiltonian_from_graph(g)\n",
    "print(cost_hamiltonian)\n",
    "\n",
    "\n",
    "# Solve the problem analytically\n",
    "energy, configuration = ground_state_hamiltonian(cost_hamiltonian)\n"
   ]
  }
 ],
 "metadata": {
  "kernelspec": {
   "display_name": "assignments",
   "language": "python",
   "name": "assignments"
  },
  "language_info": {
   "codemirror_mode": {
    "name": "ipython",
    "version": 3
   },
   "file_extension": ".py",
   "mimetype": "text/x-python",
   "name": "python",
   "nbconvert_exporter": "python",
   "pygments_lexer": "ipython3",
   "version": "3.10.6"
  }
 },
 "nbformat": 4,
 "nbformat_minor": 5
}
