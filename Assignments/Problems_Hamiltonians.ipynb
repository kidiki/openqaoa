{
 "cells": [
  {
   "cell_type": "code",
   "execution_count": null,
   "id": "d77651f0-f66a-4426-bd7d-c060ad6a51fe",
   "metadata": {},
   "outputs": [],
   "source": [
    "%load_ext autoreload\n",
    "%autoreload 2\n",
    "\n",
    "import numpy as np\n",
    "import networkx as nx\n",
    "import pandas as pd\n",
    "import seaborn as sns\n",
    "import matplotlib.pyplot as plt\n",
    "\n",
    "from openqaoa.qaoa_parameters import QAOACircuitParams, create_qaoa_variational_params, Hamiltonian\n",
    "from openqaoa.devices import create_device\n",
    "from openqaoa.backends.qaoa_backend import get_qaoa_backend\n",
    "from openqaoa.optimizers import get_optimizer\n",
    "from openqaoa.utilities import *\n",
    "from openqaoa.workflows.optimizer import QAOA, RQAOA\n",
    "from openqaoa.problems.problem import QUBO, MaximumCut, MinimumVertexCover"
   ]
  },
  {
   "cell_type": "code",
   "execution_count": null,
   "id": "ec45e973-9db5-4ac4-beb9-9c36ce09ea0c",
   "metadata": {},
   "outputs": [],
   "source": [
    "## with weights there's a difference in the ground state energy between the hamiltonian from the maxcut qubo and the hamiltonian from the graph \n",
    "### simply because single terms don't matter in the maxcut, i.e. different hamiltonina, i.e. offset"
   ]
  },
  {
   "cell_type": "code",
   "execution_count": null,
   "id": "210f3b2f-4f19-48b6-8760-d1c9d96b846d",
   "metadata": {},
   "outputs": [],
   "source": [
    "## note that the function get_qubo_problem ran outside the class with g gives the same terms. The problem is that the graph inside gets relabeled\n",
    "###  self._G = nx.relabel_nodes(input_networkx_graph, mapping)"
   ]
  },
  {
   "cell_type": "code",
   "execution_count": null,
   "id": "3e9b3b87-3e43-41f3-9a55-bca634f0efa9",
   "metadata": {},
   "outputs": [],
   "source": [
    "mapping = dict(\n",
    "            zip(g, range(\n",
    "                g.number_of_nodes()))\n",
    "        )"
   ]
  },
  {
   "cell_type": "code",
   "execution_count": null,
   "id": "1c1ced42-eef8-474b-8cf8-5b694601415e",
   "metadata": {},
   "outputs": [],
   "source": [
    "mapping"
   ]
  },
  {
   "cell_type": "code",
   "execution_count": null,
   "id": "09558cd5-47ce-4ae2-aacc-7b423764f9cc",
   "metadata": {},
   "outputs": [],
   "source": [
    "g.number_of_nodes()"
   ]
  },
  {
   "cell_type": "code",
   "execution_count": null,
   "id": "4f92df6e-6150-433c-b0fa-8fb8064ac3dd",
   "metadata": {},
   "outputs": [],
   "source": [
    "plot_graph(MaximumCut(g).G)"
   ]
  },
  {
   "cell_type": "markdown",
   "id": "2468355b-3408-469b-b909-45c6bf96c0b4",
   "metadata": {},
   "source": [
    "### MaxCut"
   ]
  },
  {
   "cell_type": "code",
   "execution_count": null,
   "id": "83324dbb-a465-4c03-9499-800994895af9",
   "metadata": {},
   "outputs": [],
   "source": [
    "g = random_k_regular_graph(degree=3, nodes=range(8), weighted=True, biases=True)  # without biases the energy is the same, with is different\n",
    "print('Graph edges', g.edges)\n",
    "plot_graph(g)\n",
    "#plt.savefig(\"graph_sigma={}.png\".format(sigma))\n",
    "#plt.clf()\n",
    "\n",
    "\n",
    "# Define the problem and translate it into a binary Qubo.\n",
    "maxcut_prob = MaximumCut(g)\n",
    "maxcut_qubo = maxcut_prob.get_qubo_problem()\n",
    "print(\"QUBO terms\", maxcut_qubo.terms)\n",
    "\n",
    "# Define Hamiltonian\n",
    "cost_hamiltonian_graph = hamiltonian_from_graph(g)\n",
    "print('Hamiltonian from graph', cost_hamiltonian_graph)\n",
    "energy_graph, configuration_graph = ground_state_hamiltonian(cost_hamiltonian_graph)\n",
    "print(energy_graph, configuration_graph)\n",
    "\n",
    "print('Hamiltonian from QUBO', maxcut_qubo.hamiltonian)\n",
    "cost_hamiltonian_qubo = maxcut_qubo.hamiltonian\n",
    "energy_qubo, configuration_qubo = ground_state_hamiltonian(cost_hamiltonian_qubo)\n",
    "print(energy_qubo, configuration_qubo)\n"
   ]
  },
  {
   "cell_type": "code",
   "execution_count": null,
   "id": "22e0d9f1-edbf-4325-aed5-e857b6833ace",
   "metadata": {},
   "outputs": [],
   "source": [
    "g.edges(data=\"weight\")"
   ]
  },
  {
   "cell_type": "code",
   "execution_count": null,
   "id": "baa7c8f0-75e3-4cfe-9e03-3d209b27d9c1",
   "metadata": {},
   "outputs": [],
   "source": [
    "# code from openqaoa/problems/problem.py get_qubo_problem(self):\n",
    "\n",
    "terms = []\n",
    "weights = []\n",
    "\n",
    "for u, v, edge_weight in g.edges(data=\"weight\"):\n",
    "    terms.append([u, v])\n",
    "\n",
    "    # We expect the edge weight to be given in the attribute called\n",
    "    # \"weight\". If it is None, assume a weight of 1.0\n",
    "    weights.append(\n",
    "        edge_weight if edge_weight else 100\n",
    "    )\n",
    "    \n",
    "print(terms)  # terms are fine, i.e. they match the graph\n",
    "\n",
    "qubo_new = QUBO(g.number_of_nodes(), terms, weights) "
   ]
  },
  {
   "cell_type": "code",
   "execution_count": null,
   "id": "57385807-62e9-4a1a-a992-c68785b51f0f",
   "metadata": {},
   "outputs": [],
   "source": [
    "qubo_new.terms # that also matches the graph"
   ]
  },
  {
   "cell_type": "code",
   "execution_count": null,
   "id": "642884f4-a57c-415e-91b1-beab5c340b0c",
   "metadata": {},
   "outputs": [],
   "source": [
    "qubo_new.weights"
   ]
  },
  {
   "cell_type": "code",
   "execution_count": null,
   "id": "b2f3ee74-05a1-4a74-8c9f-64479047cb5b",
   "metadata": {},
   "outputs": [],
   "source": [
    "ground_state_hamiltonian(qubo_new.hamiltonian)"
   ]
  },
  {
   "cell_type": "code",
   "execution_count": null,
   "id": "91b7fa09-e0f2-4a18-8101-8328e3483ae4",
   "metadata": {},
   "outputs": [],
   "source": [
    "hamiltonian_from_graph(g).terms"
   ]
  },
  {
   "cell_type": "code",
   "execution_count": null,
   "id": "f3fd891a-0558-4bea-a60c-d93c722eb80e",
   "metadata": {},
   "outputs": [],
   "source": [
    "ground_state_hamiltonian(hamiltonian_from_graph(g))"
   ]
  },
  {
   "cell_type": "code",
   "execution_count": null,
   "id": "7e90b0af-d437-4c9e-bcae-2c9a50563051",
   "metadata": {},
   "outputs": [],
   "source": [
    "print(\"QUBO terms\", qubo_new.terms)\n",
    "\n",
    "# Define Hamiltonian\n",
    "cost_hamiltonian_graph = hamiltonian_from_graph(g)  # bug must be here\n",
    "print('Hamiltonian from graph', cost_hamiltonian_graph)  \n",
    "energy_graph, configuration = ground_state_hamiltonian(cost_hamiltonian_graph)\n",
    "print(energy_graph, configuration)\n",
    "\n",
    "print('Hamiltonian from QUBO', qubo_new.hamiltonian) # bug must be here this is fine and it amtches the graph too!\n",
    "cost_hamiltonian_qubo = qubo_new.hamiltonian\n",
    "energy_qubo, configuration = ground_state_hamiltonian(cost_hamiltonian_qubo)\n",
    "print(energy_qubo, configuration)"
   ]
  },
  {
   "cell_type": "code",
   "execution_count": null,
   "id": "cd243052-5b46-4c96-bfa2-b00ca3f9ec11",
   "metadata": {},
   "outputs": [],
   "source": [
    "cost_hamiltonian_graph.qubits_singles"
   ]
  },
  {
   "cell_type": "code",
   "execution_count": null,
   "id": "187b55db-19be-44c3-8000-c966e1423e0f",
   "metadata": {},
   "outputs": [],
   "source": [
    "cost_hamiltonian_qubo.qubits_singles"
   ]
  },
  {
   "cell_type": "code",
   "execution_count": null,
   "id": "b9023cd6-6f99-43f5-985c-52706ffefc22",
   "metadata": {},
   "outputs": [],
   "source": [
    "cost_hamiltonian_graph.expression"
   ]
  },
  {
   "cell_type": "code",
   "execution_count": null,
   "id": "004e9445-aab6-4391-8eb5-400bfd8b8db1",
   "metadata": {},
   "outputs": [],
   "source": [
    "cost_hamiltonian_qubo.expression"
   ]
  },
  {
   "cell_type": "code",
   "execution_count": null,
   "id": "09dc70d8-1a49-4053-8948-a69ab9ec3f42",
   "metadata": {},
   "outputs": [],
   "source": []
  },
  {
   "cell_type": "markdown",
   "id": "c6ceadea-c4be-48eb-8c9e-4cbc9c1a7c18",
   "metadata": {},
   "source": [
    "### Minimum Vertex Cover"
   ]
  },
  {
   "cell_type": "code",
   "execution_count": null,
   "id": "6febda00-3d5b-4092-90f4-d3d59d368e25",
   "metadata": {},
   "outputs": [],
   "source": [
    "g = random_k_regular_graph(degree=3, nodes=range(6), weighted=False, biases=False)\n",
    "plot_graph(g)\n",
    "#plt.savefig(\"graph_sigma={}.png\".format(sigma))\n",
    "#plt.clf()\n",
    "\n",
    "# Define te problem and translate it into a binary Qubo.\n",
    "\n",
    "vc = MinimumVertexCover(G,field = field,penalty = penalty).get_qubo_problem()\n",
    "print(vc.terms)\n",
    "\n",
    "# Define Hamiltonian\n",
    "cost_hamiltonian = hamiltonian_from_graph(g)\n",
    "print(cost_hamiltonian)\n",
    "\n",
    "\n",
    "# Solve the problem analytically\n",
    "energy, configuration = ground_state_hamiltonian(cost_hamiltonian)\n"
   ]
  }
 ],
 "metadata": {
  "kernelspec": {
   "display_name": "assignments",
   "language": "python",
   "name": "assignments"
  },
  "language_info": {
   "codemirror_mode": {
    "name": "ipython",
    "version": 3
   },
   "file_extension": ".py",
   "mimetype": "text/x-python",
   "name": "python",
   "nbconvert_exporter": "python",
   "pygments_lexer": "ipython3",
   "version": "3.10.6"
  }
 },
 "nbformat": 4,
 "nbformat_minor": 5
}
