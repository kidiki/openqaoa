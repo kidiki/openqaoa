{
 "cells": [
  {
   "cell_type": "markdown",
   "metadata": {},
   "source": [
    "# Recursive QAOA"
   ]
  },
  {
   "cell_type": "code",
   "execution_count": 1,
   "metadata": {},
   "outputs": [],
   "source": [
    "%load_ext autoreload\n",
    "%autoreload 2\n",
    "\n",
    "import numpy as np\n",
    "import networkx as nx\n",
    "import pandas as pd\n",
    "import seaborn as sns\n",
    "import matplotlib.pyplot as plt\n",
    "import random\n",
    "import json\n",
    "import os\n",
    "import joblib\n",
    "\n",
    "from openqaoa.qaoa_parameters import QAOACircuitParams, create_qaoa_variational_params, Hamiltonian\n",
    "from openqaoa.devices import create_device\n",
    "from openqaoa.backends.qaoa_backend import get_qaoa_backend\n",
    "from openqaoa.optimizers import get_optimizer\n",
    "from openqaoa.utilities import *\n",
    "from openqaoa.workflows.optimizer import QAOA, RQAOA\n",
    "from openqaoa.problems.problem import QUBO, MaximumCut, MinimumVertexCover"
   ]
  },
  {
   "cell_type": "code",
   "execution_count": 2,
   "metadata": {},
   "outputs": [],
   "source": [
    "# Set plotting style\n",
    "plt.rcParams[\"figure.figsize\"] = (15,10)\n",
    "plt.rcParams['figure.dpi'] = 100\n",
    "plt.rcParams['savefig.dpi'] = 600\n",
    "#plt.rcParams['font.size'] = '12'\n",
    "#plt.rc('font', family='serif', size=600)\n",
    "\n",
    "sns.axes_style(\"whitegrid\")\n",
    "sns.set_context(\"paper\", font_scale=2.5)"
   ]
  },
  {
   "cell_type": "code",
   "execution_count": 3,
   "metadata": {},
   "outputs": [],
   "source": [
    "def random_k_regular_graph_normal_distribution(degree: int,\n",
    "                           nodes: List[int],\n",
    "                           seed: int = None,\n",
    "                           weighted: bool = False,\n",
    "                           sigma: float = 1.0,\n",
    "                           mu: float = 0.0,\n",
    "                           biases: bool = False) -> nx.Graph:\n",
    "    \"\"\"\n",
    "    Produces a random graph with specified number of nodes, each having degree k.\n",
    "\n",
    "    Parameters\n",
    "    ----------\n",
    "    degree: `int`\n",
    "        Desired degree for the nodes.\n",
    "    nodes: `list`\n",
    "        The node set of the graph.\n",
    "    seed: `int`, optional\n",
    "        A seed for the random number generator.\n",
    "    weighted: `bool`, optional\n",
    "        Whether the edge weights should be uniform or different. If false, all weights are set to 1.\n",
    "        If true, the weight is set to a random number drawn from the uniform distribution in the\n",
    "        interval 0 to 1.\n",
    "    biases: `bool`, optional\n",
    "        Whether or not the graph nodes should be assigned a weight.\n",
    "        If true, the weight is set to a random number drawn from the uniform\n",
    "        distribution in the interval 0 to 1.\n",
    "\n",
    "    Returns\n",
    "    -------\n",
    "    nx.Graph: `Networkx Graph`\n",
    "        A graph with the properties as specified.\n",
    "    \"\"\"\n",
    "    # Set numpy seed\n",
    "    np.random.seed(seed=seed)\n",
    "\n",
    "    # Create a random regular graph on the nodes\n",
    "    G = nx.random_regular_graph(degree, len(nodes), seed)\n",
    "\n",
    "    # Relabel nodes\n",
    "    nx.relabel_nodes(G, {i: n for i, n in enumerate(nodes)})\n",
    "\n",
    "    # Add edges between nodes\n",
    "    for edge in G.edges():\n",
    "\n",
    "        # If weighted attribute is False, all weights are set to 1\n",
    "        if not weighted:\n",
    "            G[edge[0]][edge[1]]['weight'] = 1\n",
    "\n",
    "        # If weighted attribute is True, weights are assigned as random integers\n",
    "        else:\n",
    "            G[edge[0]][edge[1]]['weight'] = np.random.normal(mu, sigma)\n",
    "\n",
    "    # If biases attribute is True, add node weights as random integers\n",
    "    if biases:\n",
    "        for node in G.nodes():\n",
    "            G.nodes[node]['weight'] = np.random.rand()\n",
    "\n",
    "    return G"
   ]
  },
  {
   "cell_type": "code",
   "execution_count": 4,
   "metadata": {},
   "outputs": [],
   "source": [
    "# helper function to produce the cost landscape\n",
    "def create_cost_landscape_std(hamiltonian, betas, gammas):\n",
    "    \"\"\"\n",
    "    This function constructs a 2-D array containing cost values for different pairs\n",
    "    of parameter values.\n",
    "    \n",
    "    \"\"\"\n",
    "    \n",
    "    cost_landscape = np.zeros((betas.size, gammas.size), dtype=float)\n",
    "    \n",
    "    for i, beta in enumerate(betas):\n",
    "        for j, gamma in enumerate(gammas):\n",
    "            variational_params = [beta, gamma]\n",
    "            cost_landscape[i,j] = energy_expectation_analytical(variational_params, hamiltonian)\n",
    "            \n",
    "           \n",
    "    return cost_landscape"
   ]
  },
  {
   "cell_type": "code",
   "execution_count": 5,
   "metadata": {},
   "outputs": [],
   "source": [
    "def plot_landscape(cost_landscape, betas, gammas, sigma, mu):\n",
    "\n",
    "    plt.contourf(cost_landscape, cmap='viridis', levels=100, extent=(gammas[0],gammas[-1],betas[0],betas[-1]))\n",
    "\n",
    "    #plt.title(r'Cost Landscape for Standard Parameterization for $\\sigma$={}'.format(sigma))\n",
    "    plt.xlabel(r'$\\gamma$')\n",
    "    plt.ylabel(r'$\\beta$')\n",
    "    plt.colorbar()\n",
    "    #plt.savefig(\"cost_landscape_sigma={}_mu={}.png\".format(sigma, mu))\n",
    "    plt.show()\n",
    "    "
   ]
  },
  {
   "cell_type": "code",
   "execution_count": 6,
   "metadata": {},
   "outputs": [],
   "source": [
    "def plot_landscape_with_opt_trajectory(cost_landscape, optimization_angles, betas, gammas, optimizer):\n",
    "    plt.contourf(cost_landscape, cmap='viridis', levels=100, extent=(gammas[0],gammas[-1],betas[0],betas[-1]))\n",
    "        \n",
    "    plt.plot(optimization_angles[:, 1], optimization_angles[:, 0], '--', color='black',  )  \n",
    "    plt.plot(optimization_angles[0, 1], optimization_angles[0, 0], 'x', color='black',  ) \n",
    "    \n",
    "    plt.plot(optimization_angles[-1, 1], optimization_angles[-1, 0], 'x', color='orange',  )\n",
    "\n",
    "    #plt.title(r'Cost Landscape for Standard Parameterization for $\\sigma$={}'.format(sigma))\n",
    "    plt.xlabel(r'$\\gamma$')\n",
    "    plt.ylabel(r'$\\beta$')\n",
    "    plt.colorbar()\n",
    "    plt.savefig(\"cost_landscape_trajectory_optimizer={}.png\".format(optimizer))\n",
    "    plt.show()"
   ]
  },
  {
   "cell_type": "markdown",
   "metadata": {},
   "source": [
    "### Analyze experiment with initializations"
   ]
  },
  {
   "cell_type": "code",
   "execution_count": null,
   "metadata": {},
   "outputs": [],
   "source": [
    "experiment_name = 'Maxcut_w3R_initializations_smallest_region' # to be used as a name for the folder containing all jsons for this experiment \n",
    "# structure of the name: problem_typeOfGraph[optional]_variableToInvestigate\n",
    "\n",
    "mu = 5.0\n",
    "\n",
    "sigma_list = [10]\n",
    "#optimizer_list = [\"vgd\", \"rmsprop\", 'newton-cg', 'cobyla', 'nelder-mead', 'powell' ]\n",
    "optimizer_list = [\"cobyla\"]\n",
    "graph_seed_list = [23]\n",
    "init_seed_list = [8000]\n",
    "\n",
    "\n",
    "data = []\n",
    "\n",
    "for sigma in sigma_list:\n",
    "    print(\"Sigma=\", sigma) \n",
    "    for graph_seed in graph_seed_list:\n",
    "        print(\"graph_seed=\", graph_seed)\n",
    "        for optimizer in optimizer_list:\n",
    "            print(\"Optimizer=\", optimizer)\n",
    "            for init_seed in init_seed_list:\n",
    "                print(\"init_seed=\", init_seed)\n",
    "                \n",
    "                # Opening JSON file\n",
    "                with open(\"{}/mu_{}__sigma_{}__graphSeed_{}_optimizer_{}__initSeed_{}.json\".format(experiment_name, mu, sigma, graph_seed, optimizer, init_seed)) as f:\n",
    "\n",
    "                    # returns JSON object as a dictionary\n",
    "                    opt_results = json.load(f)\n",
    "\n",
    "                    # construct the original problem Hamiltonian from the initial QAOA \n",
    "                    qaoa_init = opt_results['intermediate_steps'][0]['QAOA']\n",
    "                    terms = []\n",
    "                    for i in range(0, len(qaoa_init['cost_hamiltonian']['terms'])):\n",
    "                        terms.append(qaoa_init['cost_hamiltonian']['terms'][i]['qubit_indices'])\n",
    "                    weights = qaoa_init['cost_hamiltonian']['coeffs']\n",
    "                    const = qaoa_init['cost_hamiltonian']['constant']\n",
    "\n",
    "                    cost_hamiltonian = Hamiltonian.classical_hamiltonian(terms, weights, const)\n",
    "\n",
    "                    analytical_energy, configuration = ground_state_hamiltonian(cost_hamiltonian)\n",
    "\n",
    "                    # Calculate the approx. ratio\n",
    "                    optimization_energy = list(opt_results['solution'].values())[0]\n",
    "\n",
    "                    r = np.abs(optimization_energy) / np.abs(analytical_energy)\n",
    "\n",
    "                    # Extract other params\n",
    "                    optimization_schedule = list(opt_results['schedule'])\n",
    "\n",
    "                    optimization_angles = np.array(opt_results['intermediate_steps'][3]['QAOA']['intermediate']['angles log'])\n",
    "    \n",
    "                    data.append([sigma, graph_seed, init_seed, optimizer, r])\n",
    "        \n",
    "\n"
   ]
  },
  {
   "cell_type": "code",
   "execution_count": null,
   "metadata": {},
   "outputs": [],
   "source": [
    "betas = np.linspace(0, np.pi, 100)\n",
    "gammas = np.linspace(0, np.pi, 100)\n",
    "\n",
    "cost_landscape_std = create_cost_landscape_std(cost_hamiltonian, betas, gammas)"
   ]
  },
  {
   "cell_type": "code",
   "execution_count": null,
   "metadata": {},
   "outputs": [],
   "source": [
    "plot_landscape(cost_landscape_std, betas, gammas, sigma, mu)\n"
   ]
  },
  {
   "cell_type": "code",
   "execution_count": null,
   "metadata": {},
   "outputs": [],
   "source": [
    "plot_landscape(cost_landscape_std, betas, gammas, sigma, mu)\n"
   ]
  },
  {
   "cell_type": "code",
   "execution_count": null,
   "metadata": {},
   "outputs": [],
   "source": [
    "plot_landscape_with_opt_trajectory(cost_landscape_std, optimization_angles, betas, gammas, optimizer)"
   ]
  },
  {
   "cell_type": "markdown",
   "metadata": {},
   "source": [
    "# Analyze experiment with grid search and different types of RQAOA"
   ]
  },
  {
   "cell_type": "code",
   "execution_count": 7,
   "metadata": {},
   "outputs": [
    {
     "name": "stdout",
     "output_type": "stream",
     "text": [
      "Sigma= 0.1\n",
      "graph_seed= 5\n",
      "Optimizer= rmsprop\n",
      "rqaoa_type= custom\n"
     ]
    }
   ],
   "source": [
    "experiment_name = 'Maxcut_w3R_grid_search' # to be used as a name for the folder containing all jsons for this experiment \n",
    "# structure of the name: problem_typeOfGraph[optional]_variableToInvestigate\n",
    "\n",
    "mu = 5.0\n",
    "\n",
    "sigma_list = [0.1]\n",
    "#optimizer_list = [\"vgd\", \"rmsprop\", 'newton-cg', 'cobyla', 'nelder-mead', 'powell' ]\n",
    "optimizer_list = [\"rmsprop\"]\n",
    "graph_seed_list = [5]\n",
    "rqaoa_type_list = [\"custom\"]\n",
    "\n",
    "\n",
    "data = []\n",
    "\n",
    "for sigma in sigma_list:\n",
    "    print(\"Sigma=\", sigma) \n",
    "    for graph_seed in graph_seed_list:\n",
    "        print(\"graph_seed=\", graph_seed)\n",
    "        for optimizer in optimizer_list:\n",
    "            print(\"Optimizer=\", optimizer)\n",
    "            for rqaoa_type in rqaoa_type_list:\n",
    "                print(\"rqaoa_type=\", rqaoa_type)\n",
    "                \n",
    "                # Opening JSON file\n",
    "                with open(\"{}/mu_{}__sigma_{}__graphSeed_{}_optimizer_{}__type_{}__steps_2.json\".format(experiment_name, mu, sigma, graph_seed, optimizer, rqaoa_type)) as f:\n",
    "\n",
    "                    # returns JSON object as a dictionary\n",
    "                    opt_results = json.load(f)\n",
    "\n",
    "                    # construct the original problem Hamiltonian from the initial QAOA \n",
    "                    qaoa_init = opt_results['intermediate_steps'][0]['QAOA']\n",
    "                    terms = []\n",
    "                    for i in range(0, len(qaoa_init['cost_hamiltonian']['terms'])):\n",
    "                        terms.append(qaoa_init['cost_hamiltonian']['terms'][i]['qubit_indices'])\n",
    "                    weights = qaoa_init['cost_hamiltonian']['coeffs']\n",
    "                    const = qaoa_init['cost_hamiltonian']['constant']\n",
    "\n",
    "                    cost_hamiltonian = Hamiltonian.classical_hamiltonian(terms, weights, const)\n",
    "\n",
    "                    analytical_energy, configuration = ground_state_hamiltonian(cost_hamiltonian)\n",
    "\n",
    "                    # Calculate the approx. ratio\n",
    "                    optimization_energy = list(opt_results['solution'].values())[0]\n",
    "\n",
    "                    r = np.abs(optimization_energy) / np.abs(analytical_energy)\n",
    "\n",
    "                    # Extract other params\n",
    "                    optimization_schedule = list(opt_results['schedule'])\n",
    "\n",
    "                    optimization_angles = np.array(opt_results['intermediate_steps'][0]['QAOA']['intermediate']['angles log'])\n",
    "    \n",
    "                    data.append([sigma, graph_seed, rqaoa_type, optimizer, r])\n",
    "        \n",
    "\n"
   ]
  },
  {
   "cell_type": "code",
   "execution_count": 10,
   "metadata": {},
   "outputs": [
    {
     "ename": "NameError",
     "evalue": "name 'intermediate_steps' is not defined",
     "output_type": "error",
     "traceback": [
      "\u001b[0;31m---------------------------------------------------------------------------\u001b[0m",
      "\u001b[0;31mNameError\u001b[0m                                 Traceback (most recent call last)",
      "Cell \u001b[0;32mIn [10], line 1\u001b[0m\n\u001b[0;32m----> 1\u001b[0m \u001b[43mintermediate_steps\u001b[49m\n",
      "\u001b[0;31mNameError\u001b[0m: name 'intermediate_steps' is not defined"
     ]
    }
   ],
   "source": [
    "intermediate_steps"
   ]
  },
  {
   "cell_type": "code",
   "execution_count": 15,
   "metadata": {},
   "outputs": [
    {
     "data": {
      "text/plain": [
       "[[0.38468481472528077, 0.25216797219449844],\n",
       " [0.38468481472528077, 0.25216797219449844],\n",
       " [0.3836848148176044, 0.2531679721895679],\n",
       " [0.3832698549732316, 0.2531803736712282],\n",
       " [0.38306719788802146, 0.25317754363997313],\n",
       " [0.38297304633812607, 0.2531766552630488],\n",
       " [0.3829323127909203, 0.25317622505004883],\n",
       " [0.3829160502026685, 0.2531760614491291]]"
      ]
     },
     "execution_count": 15,
     "metadata": {},
     "output_type": "execute_result"
    }
   ],
   "source": [
    "opt_results['intermediate_steps'][0]['QAOA']['intermediate']['angles log']"
   ]
  },
  {
   "cell_type": "code",
   "execution_count": 18,
   "metadata": {},
   "outputs": [
    {
     "name": "stdout",
     "output_type": "stream",
     "text": [
      "0\n"
     ]
    },
    {
     "ename": "KeyError",
     "evalue": "'cost_hamiltonian'",
     "output_type": "error",
     "traceback": [
      "\u001b[0;31m---------------------------------------------------------------------------\u001b[0m",
      "\u001b[0;31mKeyError\u001b[0m                                  Traceback (most recent call last)",
      "Cell \u001b[0;32mIn [18], line 11\u001b[0m\n\u001b[1;32m      8\u001b[0m intermediate_qubo \u001b[38;5;241m=\u001b[39m opt_results[\u001b[38;5;124m'\u001b[39m\u001b[38;5;124mintermediate_steps\u001b[39m\u001b[38;5;124m'\u001b[39m][i][\u001b[38;5;124m'\u001b[39m\u001b[38;5;124mQUBO\u001b[39m\u001b[38;5;124m'\u001b[39m]\n\u001b[1;32m     10\u001b[0m terms \u001b[38;5;241m=\u001b[39m []\n\u001b[0;32m---> 11\u001b[0m \u001b[38;5;28;01mfor\u001b[39;00m i \u001b[38;5;129;01min\u001b[39;00m \u001b[38;5;28mrange\u001b[39m(\u001b[38;5;241m0\u001b[39m, \u001b[38;5;28mlen\u001b[39m(\u001b[43mintermediate_qubo\u001b[49m\u001b[43m[\u001b[49m\u001b[38;5;124;43m'\u001b[39;49m\u001b[38;5;124;43mcost_hamiltonian\u001b[39;49m\u001b[38;5;124;43m'\u001b[39;49m\u001b[43m]\u001b[49m[\u001b[38;5;124m'\u001b[39m\u001b[38;5;124mterms\u001b[39m\u001b[38;5;124m'\u001b[39m])):\n\u001b[1;32m     12\u001b[0m     terms\u001b[38;5;241m.\u001b[39mappend(intermediate_qubo[\u001b[38;5;124m'\u001b[39m\u001b[38;5;124mcost_hamiltonian\u001b[39m\u001b[38;5;124m'\u001b[39m][\u001b[38;5;124m'\u001b[39m\u001b[38;5;124mterms\u001b[39m\u001b[38;5;124m'\u001b[39m][i][\u001b[38;5;124m'\u001b[39m\u001b[38;5;124mqubit_indices\u001b[39m\u001b[38;5;124m'\u001b[39m])\n\u001b[1;32m     13\u001b[0m weights \u001b[38;5;241m=\u001b[39m intermediate_qubo[\u001b[38;5;124m'\u001b[39m\u001b[38;5;124mcost_hamiltonian\u001b[39m\u001b[38;5;124m'\u001b[39m][\u001b[38;5;124m'\u001b[39m\u001b[38;5;124mcoeffs\u001b[39m\u001b[38;5;124m'\u001b[39m]\n",
      "\u001b[0;31mKeyError\u001b[0m: 'cost_hamiltonian'"
     ]
    }
   ],
   "source": [
    "betas = np.linspace(0, np.pi/2, 50)\n",
    "gammas = np.linspace(0, 3*np.pi, 300)\n",
    "\n",
    "intermediate_steps = len(opt_results['intermediate_steps'])\n",
    "\n",
    "for i in range(0, intermediate_steps):\n",
    "    print(i)\n",
    "    intermediate_qubo = opt_results['intermediate_steps'][i]['QUBO']\n",
    "    \n",
    "    terms = []\n",
    "    for i in range(0, len(intermediate_qubo['cost_hamiltonian']['terms'])):\n",
    "        terms.append(intermediate_qubo['cost_hamiltonian']['terms'][i]['qubit_indices'])\n",
    "    weights = intermediate_qubo['cost_hamiltonian']['coeffs']\n",
    "    const = intermediate_qubo['cost_hamiltonian']['constant']\n",
    "\n",
    "    intermediate_hamiltonian = Hamiltonian.classical_hamiltonian(terms, weights, const)\n",
    "\n",
    "    intermediate_g = graph_from_hamiltonian(intermediate_hamiltonian)\n",
    "    optimization_angles = np.array(opt_results['intermediate_steps'][0]['QAOA']['intermediate']['angles log'])\n",
    "    print(intermediate_g)\n",
    "    plot_graph(intermediate_g)\n",
    "    plt.clf()\n",
    "    cost_landscape = create_cost_landscape_std(intermediate_hamiltonian, betas, gammas)\n",
    "    #plot_landscape(cost_landscape, betas, gammas, sigma, mu)\n",
    "    plot_landscape_with_opt_trajectory(cost_landscape, optimization_angles, betas, gammas, optimizer)\n",
    "\n"
   ]
  },
  {
   "cell_type": "code",
   "execution_count": null,
   "metadata": {},
   "outputs": [],
   "source": [
    "plot_landscape_with_opt_trajectory(cost_landscape_std, optimization_angles, betas, gammas, optimizer)"
   ]
  },
  {
   "cell_type": "code",
   "execution_count": null,
   "metadata": {},
   "outputs": [],
   "source": []
  }
 ],
 "metadata": {
  "kernelspec": {
   "display_name": "assignments",
   "language": "python",
   "name": "assignments"
  },
  "language_info": {
   "codemirror_mode": {
    "name": "ipython",
    "version": 3
   },
   "file_extension": ".py",
   "mimetype": "text/x-python",
   "name": "python",
   "nbconvert_exporter": "python",
   "pygments_lexer": "ipython3",
   "version": "3.10.6"
  },
  "toc": {
   "base_numbering": 1,
   "nav_menu": {},
   "number_sections": true,
   "sideBar": true,
   "skip_h1_title": false,
   "title_cell": "Table of Contents",
   "title_sidebar": "Contents",
   "toc_cell": false,
   "toc_position": {},
   "toc_section_display": true,
   "toc_window_display": false
  }
 },
 "nbformat": 4,
 "nbformat_minor": 4
}
